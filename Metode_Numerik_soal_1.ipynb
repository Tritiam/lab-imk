{
  "nbformat": 4,
  "nbformat_minor": 0,
  "metadata": {
    "colab": {
      "name": "Metode_Numerik_soal_1.ipynb",
      "provenance": [],
      "collapsed_sections": [],
      "toc_visible": true,
      "include_colab_link": true
    },
    "kernelspec": {
      "name": "python3",
      "display_name": "Python 3"
    },
    "language_info": {
      "name": "python"
    }
  },
  "cells": [
    {
      "cell_type": "markdown",
      "metadata": {
        "id": "view-in-github",
        "colab_type": "text"
      },
      "source": [
        "<a href=\"https://colab.research.google.com/github/Tritiam/lab-imk/blob/main/Metode_Numerik_soal_1.ipynb\" target=\"_parent\"><img src=\"https://colab.research.google.com/assets/colab-badge.svg\" alt=\"Open In Colab\"/></a>"
      ]
    },
    {
      "cell_type": "markdown",
      "metadata": {
        "id": "BOGPa08x5hd_"
      },
      "source": [
        "Install Library and Resources\n"
      ]
    },
    {
      "cell_type": "code",
      "metadata": {
        "colab": {
          "base_uri": "https://localhost:8080/"
        },
        "id": "MN-NbZCZ48Sc",
        "outputId": "e8f5087e-1fc8-49fc-d120-5dd0fc996fb9"
      },
      "source": [
        "!pip install sympy\n",
        "from sympy import *\n",
        "import math"
      ],
      "execution_count": 7,
      "outputs": [
        {
          "output_type": "stream",
          "text": [
            "Requirement already satisfied: sympy in /usr/local/lib/python3.7/dist-packages (1.7.1)\n",
            "Requirement already satisfied: mpmath>=0.19 in /usr/local/lib/python3.7/dist-packages (from sympy) (1.2.1)\n"
          ],
          "name": "stdout"
        }
      ]
    },
    {
      "cell_type": "code",
      "metadata": {
        "id": "NCy02UWvbD8Y"
      },
      "source": [
        ""
      ],
      "execution_count": 7,
      "outputs": []
    },
    {
      "cell_type": "code",
      "metadata": {
        "id": "661dcSKw9Ddn"
      },
      "source": [
        "import numpy as np\n",
        "import matplotlib.pyplot as plt"
      ],
      "execution_count": 8,
      "outputs": []
    },
    {
      "cell_type": "markdown",
      "metadata": {
        "id": "Zu9KVMdF14W-"
      },
      "source": [
        "Declare Symbol for SMYPY"
      ]
    },
    {
      "cell_type": "code",
      "metadata": {
        "id": "xRzw37mN5hCI"
      },
      "source": [
        "x, y, z = symbols(\"x y z\")#declare esential symbol"
      ],
      "execution_count": 9,
      "outputs": []
    },
    {
      "cell_type": "markdown",
      "metadata": {
        "id": "ia_p-yD7-LuW"
      },
      "source": [
        "Program Functions"
      ]
    },
    {
      "cell_type": "code",
      "metadata": {
        "id": "qCxnKq1a9tIa"
      },
      "source": [
        "def round_up(n, decimals): #10 up-rounder\n",
        "    multiplier = 10 ** decimals \n",
        "    return math.ceil(n * multiplier) / multiplier"
      ],
      "execution_count": 10,
      "outputs": []
    },
    {
      "cell_type": "code",
      "metadata": {
        "id": "z52u0VwS_Rnq"
      },
      "source": [
        "def convert_sq(val, unit_in, unit_out):#convert squared SI\n",
        "    SI = {'mm2':0.000001, 'cm2':0.0001, 'm2':1.0, 'km2':1000000.}#lib\n",
        "    return val*SI[unit_in]/SI[unit_out]#converter formula\n",
        "def convert_four(val, unit_in, unit_out):#convert SI^4\n",
        "    SI = {'mm4':0.000000000001, 'cm4':0.00000001, 'm4':1.0, 'km4':100000000.}#lib\n",
        "    return val*SI[unit_in]/SI[unit_out]#converter formula"
      ],
      "execution_count": 11,
      "outputs": []
    },
    {
      "cell_type": "code",
      "metadata": {
        "id": "wHLdWYO2-yqt"
      },
      "source": [
        "def area(h,b):#calculate area with known h and b value\n",
        "  Ar = convert_sq((h*b),'mm2', 'm2')\n",
        "  return Ar\n",
        "\n",
        "def calc_I(h,b):#calculate I with known h and b value\n",
        "  I =convert_four((1/12*b*(h**3)), 'mm4', 'm4')\n",
        "  return I"
      ],
      "execution_count": 12,
      "outputs": []
    },
    {
      "cell_type": "code",
      "metadata": {
        "id": "4oCftahmIHWf"
      },
      "source": [
        "def calc_EI(e,i):#calculate EI with known E and I value\n",
        "  EI = (((e*1000000)*i))#little hardcoded here, sorry\n",
        "  return EI"
      ],
      "execution_count": 13,
      "outputs": []
    },
    {
      "cell_type": "code",
      "metadata": {
        "id": "cIsF0U6JLE3Z"
      },
      "source": [
        "def calc_ro(gam, grav):#calculate rho with known gamma and grav value\n",
        "  ro = (gam/grav)*1000\n",
        "  return ro"
      ],
      "execution_count": 14,
      "outputs": []
    },
    {
      "cell_type": "code",
      "metadata": {
        "id": "vhuCYw-2DbYf"
      },
      "source": [
        "def curve_Diagram(x_Plot, arr1):#diagram ploter\n",
        "  for ind in range(-x_Plot,(x_Plot+1)):#inserted range goes here\n",
        "    plot_Val=funct.subs(x,ind)#known function with x value calculated here\n",
        "    arr1.append(plot_Val)#and inserted here\n",
        "  axis = np.arange(-x_Plot,(x_Plot+1))#plot range(-+) to axis\n",
        "  ord = arr1 #plot function result to ordinate\n",
        "  plt.title(\"Equation Curve\")#title\n",
        "  plt.xlabel(\"X axis\")#accessory\n",
        "  plt.ylabel(\"Y axis\")#accessory\n",
        "  plt.plot(axis, ord, color =\"grey\")#accessory, change line color here!\n",
        "  plt.show()#call the diagram"
      ],
      "execution_count": 15,
      "outputs": []
    },
    {
      "cell_type": "code",
      "metadata": {
        "id": "vG7OlyIsf4GQ"
      },
      "source": [
        "def N_R(inp_no,t):#Newton-Raphson Function\n",
        "  #def here\n",
        "  arr_xi=[]#empty arr\n",
        "  arr_fxi=[]#empty arr\n",
        "  arr_xi.append(arr_inp[inp_no])#append initial x value 1 by 1\n",
        "  stop = 0#stopper\n",
        "  for n in range(0,(max_Iter)):\n",
        "    #fxi\n",
        "    fxi=funct.subs(x,arr_xi[n])#sub x in function to x value\n",
        "    arr_fxi.append(fxi)\n",
        "    if n!=0 and stop!=1 and abs(arr_fxi[n-1]-arr_fxi[n])<t:\n",
        "      #^^^condition:array index not equal 0, never been run before\n",
        "      #>>and arr value now minus arr prev value less than deg. of toleration\n",
        "      arr_res.append(arr_xi[n])#insert latest value to arr_res when condition met\n",
        "      stop = 1#value updater\n",
        "    fxi_diff=diff_funct.subs(x,arr_xi[n])#sub x in deriv.funct. to x value\n",
        "    xi_plus1=arr_xi[n]-(fxi/fxi_diff)#calculates next xn value\n",
        "    #diff\n",
        "    arr_xi.append(xi_plus1)#insert next xn value to xi\n",
        "    arr_xidiff.append(fxi_diff)#display der funct xi result\n",
        "    print(\"iterasi %d:\\t%.9f\\t%.9f\\t%.9f\" % ((n+1) ,arr_xi[n],fxi,fxi_diff))\n",
        "    #^^^Display\n",
        "  print(\"\\n\")"
      ],
      "execution_count": 16,
      "outputs": []
    },
    {
      "cell_type": "code",
      "metadata": {
        "id": "29qz_O6KugmZ"
      },
      "source": [
        "def kontrol(t):#control\n",
        "  print(funct)\n",
        "  for n in range(0,hmn):\n",
        "    cont=funct.subs(x, arr_res[n])#root into known function here\n",
        "    if cont < t : status = 'ok'#contol condition\n",
        "    else : status = 'not ok'#else condition\n",
        "    print(\"%.20f < %f ........ %s\" % (abs(cont),t,status))#the abs later mentioned\n",
        "    #>>>is here\n",
        "    arr_kontrol.append(cont)#show\n",
        "    "
      ],
      "execution_count": 17,
      "outputs": []
    },
    {
      "cell_type": "markdown",
      "metadata": {
        "id": "uor_d1wQ7pcU"
      },
      "source": [
        "Input"
      ]
    },
    {
      "cell_type": "code",
      "metadata": {
        "id": "OuGrim4e-Nh4"
      },
      "source": [
        "h = round_up(float(input(\"h(mm) = \")),-1)\n",
        "b = round_up(float(input(\"b(mm) = \")),-1)\n",
        "A = area(h, b)\n",
        "I = calc_I(h,b)"
      ],
      "execution_count": null,
      "outputs": []
    },
    {
      "cell_type": "code",
      "metadata": {
        "id": "Er2_sFfdN9m8"
      },
      "source": [
        "print(\"Adjusted h = %d mm \" % h)\n",
        "print(\"Adjusted b = %d mm \" % b)\n",
        "print(\"Total areA = %f m^2 \" % A )\n",
        "print(\"Value of I = %f m^4 \" % I )"
      ],
      "execution_count": null,
      "outputs": []
    },
    {
      "cell_type": "markdown",
      "metadata": {
        "id": "zCU6ItPc0wlC"
      },
      "source": [
        "Material Option"
      ]
    },
    {
      "cell_type": "code",
      "metadata": {
        "id": "ML-UaRO7DLV9"
      },
      "source": [
        "print(\"list of materials : \")#material option, CASE SENSITIVE!!!!!\n",
        "print(\"a.) Beton \\nb.) Beton Bertulang\\nc.) Kayu Kelas 1\\nInsert your choice :\")\n",
        "for i_ in range(3):\n",
        "  opt = input(\"choice = \")\n",
        "  if opt == 'a'  :\n",
        "    mat = 'Beton'\n",
        "    E = 21000\n",
        "    gam = 22\n",
        "    break\n",
        "  elif opt == 'b' :\n",
        "    mat = 'Beton Bertulang'\n",
        "    E = 21000\n",
        "    gam = 24\n",
        "    break\n",
        "  elif opt == 'c' :\n",
        "    mat = 'Kayu Kelas 1'\n",
        "    E = 12500\n",
        "    gam = 10\n",
        "    break\n",
        "  else :\n",
        "    print(\"wrong choice! %d attemts remaining.\" %(3-i_))\n",
        "    continue\n",
        "print(\" Material : %s (Young's Modulus(E): %f N/mm^2 ; gam: %d kN/m^3)\"\n",
        " % (mat,E,gam))#display"
      ],
      "execution_count": null,
      "outputs": []
    },
    {
      "cell_type": "markdown",
      "metadata": {
        "id": "DErVRntdIDC-"
      },
      "source": [
        "Calculate EI"
      ]
    },
    {
      "cell_type": "code",
      "metadata": {
        "id": "nF-dNSQMH5cY"
      },
      "source": [
        "EI= calc_EI(E,I)\n",
        "print('EI = %f Nm^2' %EI)"
      ],
      "execution_count": null,
      "outputs": []
    },
    {
      "cell_type": "markdown",
      "metadata": {
        "id": "bGNLG0YDKMV2"
      },
      "source": [
        "Input L"
      ]
    },
    {
      "cell_type": "code",
      "metadata": {
        "id": "zTE5ZlCVKC7g"
      },
      "source": [
        "L = float(input(\"input L(m) = \"))"
      ],
      "execution_count": null,
      "outputs": []
    },
    {
      "cell_type": "markdown",
      "metadata": {
        "id": "LMe8TaSeKryu"
      },
      "source": [
        "Input Gravitational Acceleration Value"
      ]
    },
    {
      "cell_type": "code",
      "metadata": {
        "id": "U2hAB_zOKLfP"
      },
      "source": [
        "grav = float(input(\"input gravity value(m/s^2) = \"))"
      ],
      "execution_count": null,
      "outputs": []
    },
    {
      "cell_type": "markdown",
      "metadata": {
        "id": "zdZ5jQ8_K6a0"
      },
      "source": [
        "Calculate ro"
      ]
    },
    {
      "cell_type": "code",
      "metadata": {
        "id": "gQh0YF7OKyAc"
      },
      "source": [
        "ro =  calc_ro(gam, grav)"
      ],
      "execution_count": null,
      "outputs": []
    },
    {
      "cell_type": "markdown",
      "metadata": {
        "id": "vg68L8260hjC"
      },
      "source": [
        "Input Recap"
      ]
    },
    {
      "cell_type": "code",
      "metadata": {
        "id": "l1pmSnZtLWQz"
      },
      "source": [
        "print(\"||INPUT RECAP||\")#overall recap\n",
        "print(\"Material : %s )\" % mat)\n",
        "print(\"Adjusted h = %d mm \" % h)\n",
        "print(\"Adjusted b = %d mm \" % b)\n",
        "print(\"Total Area = %f m^2 \" % A )\n",
        "print(\"Value of I = %f m^4 \" % I )\n",
        "print(\"Young's Modulus(E): %f N/mm^2\"%E)\n",
        "print(\"gam: %d kN/m^3\" %gam)\n",
        "print('EI = %f Nm^2' %EI)\n",
        "print(\"Length(L): %f m\"%L)\n",
        "print('gravitational acceleration = %f m/s^2' %grav)\n",
        "print(\"material density(rho) = %f kg/m^3\" %ro)"
      ],
      "execution_count": null,
      "outputs": []
    },
    {
      "cell_type": "markdown",
      "metadata": {
        "id": "1vJF_S3zQn4N"
      },
      "source": [
        "Calculate a"
      ]
    },
    {
      "cell_type": "code",
      "metadata": {
        "id": "oUl848hvNQI_"
      },
      "source": [
        "a = sqrt(EI/(ro*A))"
      ],
      "execution_count": null,
      "outputs": []
    },
    {
      "cell_type": "code",
      "metadata": {
        "id": "3NRERSx6S-CR"
      },
      "source": [
        "K = L/sqrt(a)#divider"
      ],
      "execution_count": null,
      "outputs": []
    },
    {
      "cell_type": "markdown",
      "metadata": {
        "id": "NPgcD5H80KuW"
      },
      "source": [
        "Declaring Function"
      ]
    },
    {
      "cell_type": "code",
      "metadata": {
        "id": "pmX56kWxSDem"
      },
      "source": [
        "str_expr=(\"cos(x*%s)*cosh(x*%s)+1\" % (K,K) )#Function Dclaration"
      ],
      "execution_count": null,
      "outputs": []
    },
    {
      "cell_type": "code",
      "metadata": {
        "id": "IulzyHnr32yq"
      },
      "source": [
        "print(str_expr)#Function"
      ],
      "execution_count": null,
      "outputs": []
    },
    {
      "cell_type": "code",
      "metadata": {
        "id": "eijuWsp7Sy52"
      },
      "source": [
        "expr = sympify(str_expr)#Sympified Function\n",
        "funct = expr#assign function to variable 'funct' "
      ],
      "execution_count": null,
      "outputs": []
    },
    {
      "cell_type": "code",
      "metadata": {
        "id": "DZu7W9207oYr"
      },
      "source": [
        "print(funct)#show variable 'funct'"
      ],
      "execution_count": null,
      "outputs": []
    },
    {
      "cell_type": "markdown",
      "metadata": {
        "id": "g1pR2X8P0Fpy"
      },
      "source": [
        "Derivative of Function"
      ]
    },
    {
      "cell_type": "code",
      "metadata": {
        "id": "gcZ7qRAIXhn0"
      },
      "source": [
        "diff_funct=diff(expr, x)#Derrivative(dx) of original function and assign"
      ],
      "execution_count": null,
      "outputs": []
    },
    {
      "cell_type": "code",
      "metadata": {
        "id": "oWXnA7EI64LP"
      },
      "source": [
        "print(diff_funct)#show derrivative function in var 'diff_funct'"
      ],
      "execution_count": null,
      "outputs": []
    },
    {
      "cell_type": "markdown",
      "metadata": {
        "id": "REz0c9drBX6g"
      },
      "source": [
        "Curve Diagram\n"
      ]
    },
    {
      "cell_type": "code",
      "metadata": {
        "id": "5QBcwv3H9G5n"
      },
      "source": [
        "arr1 = []#empty array to store equation value\n",
        "x_Plot = int(input(\"Input range(-range to +range) = \"))#-+range of x value\n",
        "curve_Diagram(x_Plot,arr1)#Call plot to Equation Curve"
      ],
      "execution_count": null,
      "outputs": []
    },
    {
      "cell_type": "markdown",
      "metadata": {
        "id": "xbqAzO09F1Ol"
      },
      "source": [
        "NEWTON-RAPHSON\n"
      ]
    },
    {
      "cell_type": "code",
      "metadata": {
        "id": "cIc6Zs-lKft0"
      },
      "source": [
        "arr_inp=[]#empty arr to store intitial x(x1) value of each equation\n",
        "hmn = int(input(\"how many root? \"))#input number of equation\n",
        "for i_ in range(0,hmn):\n",
        "  xi_inp = int(input((\"insert xi_%d = \")%(i_+1)))\n",
        "  arr_inp.append(xi_inp)#insert declared value in arr_inp"
      ],
      "execution_count": null,
      "outputs": []
    },
    {
      "cell_type": "markdown",
      "metadata": {
        "id": "e0-cSZYBzisX"
      },
      "source": [
        "Insert Max Iteration and Degree of Tolerance\n"
      ]
    },
    {
      "cell_type": "code",
      "metadata": {
        "id": "tilXBJgMLQaz"
      },
      "source": [
        "max_Iter = int(input(\"maximum number of iteration = \"))#input max iteration\n",
        "t = float(input(\"degree of tolerance(in decimal) = \"))#input degree of tolerance"
      ],
      "execution_count": null,
      "outputs": []
    },
    {
      "cell_type": "markdown",
      "metadata": {
        "id": "hhIdyj2Hzo1p"
      },
      "source": [
        "Run NEWTON-RAPHSON Function"
      ]
    },
    {
      "cell_type": "code",
      "metadata": {
        "id": "UfzfAdghLMZM"
      },
      "source": [
        "arr_res=[]#empty arr for result\n",
        "arr_xidiff=[]#empty arr for iteration result\n",
        "for inp_no in range(0,len(arr_inp)):\n",
        "  print(\"X%d\\t\\txi\\t\\tfxi\\t\\tf'xi\" % (inp_no+1))#accessory\n",
        "  N_R(inp_no,t)#call N_R Newton-Raphson function\n"
      ],
      "execution_count": null,
      "outputs": []
    },
    {
      "cell_type": "markdown",
      "metadata": {
        "id": "O2543W0GzumG"
      },
      "source": [
        "Validation"
      ]
    },
    {
      "cell_type": "code",
      "metadata": {
        "id": "gyFXGXimkmAg"
      },
      "source": [
        "print(arr_res)#validation of root result in arr_res"
      ],
      "execution_count": null,
      "outputs": []
    },
    {
      "cell_type": "markdown",
      "metadata": {
        "id": "6EO1zygczyNy"
      },
      "source": [
        "Recap\n"
      ]
    },
    {
      "cell_type": "code",
      "metadata": {
        "id": "XfspoM9Gs1jZ"
      },
      "source": [
        "print(\"Recap value of each x :\\n\")\n",
        "for n in range(0,hmn):\n",
        "  print(\"X%d = %.9f\" % ((n+1), arr_res[n]))#recap root x from each equation\n",
        "print(\"\\nvalue Wn or (Xn^2):\\n\")\n",
        "for n in range(0,hmn):\n",
        "  print(\"W%d = %.9f\" % ((n+1), (arr_res[n]**2)))#recap vakue of Wn\n",
        "\n"
      ],
      "execution_count": null,
      "outputs": []
    },
    {
      "cell_type": "markdown",
      "metadata": {
        "id": "bwvav2Yiz1r5"
      },
      "source": [
        "Control"
      ]
    },
    {
      "cell_type": "code",
      "metadata": {
        "id": "7A_VBikewd6f"
      },
      "source": [
        "arr_kontrol=[]\n",
        "print(kontrol(t))#control"
      ],
      "execution_count": null,
      "outputs": []
    },
    {
      "cell_type": "markdown",
      "metadata": {
        "id": "nSBHEyKXX009"
      },
      "source": [
        "Control Validation"
      ]
    },
    {
      "cell_type": "code",
      "metadata": {
        "id": "aN9i2hO8vgL8"
      },
      "source": [
        "print(arr_kontrol)#may differ due to the usage of abs in 'Control'"
      ],
      "execution_count": null,
      "outputs": []
    },
    {
      "cell_type": "markdown",
      "metadata": {
        "id": "YD9c7H4_NOF6"
      },
      "source": [
        "end of work\n"
      ]
    }
  ]
}